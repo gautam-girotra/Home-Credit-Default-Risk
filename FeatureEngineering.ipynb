{
 "cells": [
  {
   "cell_type": "markdown",
   "id": "34928f65",
   "metadata": {},
   "source": [
    "# FEATURE ENGINEERING AND MODELLING"
   ]
  },
  {
   "cell_type": "markdown",
   "id": "8fedd11d",
   "metadata": {},
   "source": [
    "## Importing the required libraries."
   ]
  },
  {
   "cell_type": "code",
   "execution_count": 1,
   "id": "79b33303",
   "metadata": {},
   "outputs": [],
   "source": [
    "import pandas as pd\n",
    "import numpy as np\n",
    "import re\n",
    "import time\n",
    "import lightgbm as lgbm\n",
    "import optuna\n",
    "optuna.logging.set_verbosity(optuna.logging.ERROR)\n",
    "import warnings\n",
    "warnings.filterwarnings('ignore')\n",
    "\n",
    "# from bayes_opt import BayesianOptimization\n",
    "from sklearn.preprocessing import LabelEncoder\n",
    "from sklearn.preprocessing import StandardScaler\n",
    "from sklearn.model_selection import train_test_split\n",
    "from sklearn.model_selection import GridSearchCV, RandomizedSearchCV\n",
    "from sklearn.model_selection import StratifiedKFold\n",
    "\n",
    "from sklearn.linear_model import LogisticRegression\n",
    "from sklearn.neighbors import KNeighborsClassifier\n",
    "from sklearn.tree import DecisionTreeClassifier\n",
    "from sklearn.linear_model import SGDClassifier\n",
    "from sklearn.ensemble import RandomForestClassifier\n",
    "from sklearn.ensemble import ExtraTreesClassifier\n",
    "from sklearn.calibration import CalibratedClassifierCV\n",
    "from sklearn.svm import SVC\n",
    "from sklearn.ensemble import RandomForestClassifier\n",
    "from sklearn.ensemble import GradientBoostingClassifier\n",
    "from lightgbm import LGBMClassifier\n",
    "from optuna.integration import LightGBMPruningCallback\n",
    "from optuna.visualization.matplotlib import plot_optimization_history\n",
    "from warnings import simplefilter\n",
    "simplefilter(\"ignore\", category=RuntimeWarning)\n",
    "\n",
    "from sklearn.metrics import roc_auc_score"
   ]
  },
  {
   "cell_type": "markdown",
   "id": "c4b9a3cf",
   "metadata": {},
   "source": [
    "## Defining some custom functions required for feature engineering, preprocessing and modelling."
   ]
  },
  {
   "cell_type": "code",
   "execution_count": 2,
   "id": "762112f1",
   "metadata": {},
   "outputs": [],
   "source": [
    "def featureEngineering(df):\n",
    "    #Dropping with 'XNA' as Gender\n",
    "    df = df[df['CODE_GENDER'] != 'XNA']\n",
    "    \n",
    "    df['PROCESS_START_WEEKEND'] = np.where((df['WEEKDAY_APPR_PROCESS_START']=='SATURDAY')\n",
    "                                           |(df['WEEKDAY_APPR_PROCESS_START']=='SUNDAY'),1,0) \n",
    "    \n",
    "    \n",
    "    #removing invalid values\n",
    "    df['DAYS_EMPLOYED'][df['DAYS_EMPLOYED'] == 365243] = np.nan\n",
    "    \n",
    "    #converting age to years\n",
    "    days_cols=[col for col in df.columns if 'DAYS_' in col]\n",
    "    for col in days_cols:\n",
    "        df[col.replace('DAYS_','')+'_AGE'] = df[col]*-1/365\n",
    "\n",
    "    #OBS Columns have an invalid value, we'll remove those values\n",
    "    df['OBS_30_CNT_SOCIAL_CIRCLE'][df['OBS_30_CNT_SOCIAL_CIRCLE'] > 30] = np.nan\n",
    "    df['OBS_60_CNT_SOCIAL_CIRCLE'][df['OBS_60_CNT_SOCIAL_CIRCLE'] > 30] = np.nan\n",
    "    \n",
    "    df['EXT_SOURCE_1_bands']=np.where(df['EXT_SOURCE_1']>0.425,1,0)\n",
    "    df['EXT_SOURCE_2_bands']=np.where(df['EXT_SOURCE_2']>0.5,1,0)\n",
    "    df['EXT_SOURCE_3_bands']=np.where(df['EXT_SOURCE_3']>0.45,1,0)\n",
    "\n",
    "    #counting the total NaN values for each application\n",
    "    df['TOTAL_MISSING_RECORDS'] = df.isnull().sum(axis = 1)\n",
    "    \n",
    "    return df"
   ]
  },
  {
   "cell_type": "code",
   "execution_count": 3,
   "id": "4ba943fb",
   "metadata": {},
   "outputs": [],
   "source": [
    "def imputation(df):\n",
    "    #Dropping columns.\n",
    "    df.drop(columns=['FLAG_DOCUMENT_2','FLAG_DOCUMENT_4','FLAG_DOCUMENT_10','FLAG_DOCUMENT_12','FLAG_DOCUMENT_20'],inplace=True)\n",
    "    df.drop(columns=days_cols,inplace=True)\n",
    "\n",
    "    #Filling with median.\n",
    "    df['OWN_CAR_AGE'].fillna(df['OWN_CAR_AGE'].median(),inplace=True)\n",
    "    df['AMT_GOODS_PRICE'].fillna(df['AMT_GOODS_PRICE'].median(),inplace=True)\n",
    "    df['AMT_ANNUITY'].fillna(df['AMT_ANNUITY'].median(),inplace=True)\n",
    "    df['EMPLOYED_AGE'].fillna(df['EMPLOYED_AGE'].median(),inplace=True)\n",
    "\n",
    "    for col in ext_cols:\n",
    "        df[col].fillna(df[col].mean(),inplace=True)\n",
    "\n",
    "    #Filling with mode.\n",
    "    for col in cat_cols:\n",
    "        df[col].fillna(df[col].mode()[0],inplace=True)\n",
    "\n",
    "    for col in social_cols:\n",
    "        df[col].fillna(df[col].mode()[0],inplace=True)\n",
    "\n",
    "    for col in ['CNT_FAM_MEMBERS','AMT_REQ_CREDIT_BUREAU_HOUR','AMT_REQ_CREDIT_BUREAU_DAY','AMT_REQ_CREDIT_BUREAU_WEEK',\n",
    "                                      'AMT_REQ_CREDIT_BUREAU_MON','AMT_REQ_CREDIT_BUREAU_QRT','AMT_REQ_CREDIT_BUREAU_YEAR']:\n",
    "        df[col].fillna(df[col].mode()[0],inplace=True)\n",
    "\n",
    "    #Filling with mean.                                  \n",
    "\n",
    "    for col in building_cols:\n",
    "        df[col].fillna(df[col].mean(),inplace=True)\n",
    "\n",
    "\n",
    "    df['LAST_PHONE_CHANGE_AGE'].fillna(df['LAST_PHONE_CHANGE_AGE'].mean(),inplace=True)\n",
    "    \n",
    "    return df"
   ]
  },
  {
   "cell_type": "code",
   "execution_count": 4,
   "id": "5d943f35",
   "metadata": {},
   "outputs": [],
   "source": [
    "def numericalFeatureEngineering(df):\n",
    "    #income and credit features\n",
    "    df['ANNUITY_INCOME_RATIO'] = df['AMT_ANNUITY'] / (df['AMT_INCOME_TOTAL'] + 0.00001)\n",
    "    df['GOODS_INCOME_RATIO'] = df['AMT_GOODS_PRICE'] / (df['AMT_INCOME_TOTAL'] + 0.00001)\n",
    "    df['INCOME_ANNUITY_DIFF'] = df['AMT_INCOME_TOTAL'] - df['AMT_ANNUITY']\n",
    "\n",
    "    df['CREDIT_ANNUITY_RATIO'] = df['AMT_CREDIT'] / (df['AMT_ANNUITY'] + 0.00001)\n",
    "    df['CREDIT_INCOME_RATIO'] = df['AMT_CREDIT'] / (df['AMT_INCOME_TOTAL'] + 0.00001)\n",
    "    df['CREDIT_GOODS_RATIO'] = df['AMT_CREDIT'] / (df['AMT_GOODS_PRICE'] + 0.00001)\n",
    "    df['CREDIT_GOODS_DIFF'] = df['AMT_CREDIT'] - df['AMT_GOODS_PRICE'] + 0.00001\n",
    "\n",
    "\n",
    "    #EXT_source\n",
    "    df['INCOME_EXT1_RATIO'] = df['AMT_INCOME_TOTAL'] / (df['EXT_SOURCE_1'] + 0.00001)\n",
    "    df['CREDIT_EXT1_RATIO'] = df['AMT_CREDIT'] / (df['EXT_SOURCE_1'] + 0.00001)\n",
    "\n",
    "    df['INCOME_EXT2_RATIO'] = df['AMT_INCOME_TOTAL'] / (df['EXT_SOURCE_2'] + 0.00001)\n",
    "    df['CREDIT_EXT2_RATIO'] = df['AMT_CREDIT'] / (df['EXT_SOURCE_2'] + 0.00001)\n",
    "\n",
    "    df['INCOME_EXT3_RATIO'] = df['AMT_INCOME_TOTAL'] / (df['EXT_SOURCE_3'] + 0.00001)\n",
    "    df['CREDIT_EXT3_RATIO'] = df['AMT_CREDIT'] / (df['EXT_SOURCE_3'] + 0.00001)\n",
    "\n",
    "    #For following features inspiration was taken from \n",
    "    #https://github.com/rishabhrao1997/Home-Credit-Default-Risk/blob/main/EDA%20-%20Home%20Credit%20Default.ipynb\n",
    "\n",
    "    #age ratios and diffs\n",
    "    df['AGE_EMPLOYED_DIFF'] = df['BIRTH_AGE'] - df['EMPLOYED_AGE']\n",
    "    df['EMPLOYED_TO_AGE_RATIO'] = df['EMPLOYED_AGE'] / (df['BIRTH_AGE'] + 0.00001)\n",
    "\n",
    "    #car ratios\n",
    "    df['CAR_EMPLOYED_DIFF'] = df['OWN_CAR_AGE'] - df['EMPLOYED_AGE']\n",
    "    df['CAR_EMPLOYED_RATIO'] = df['OWN_CAR_AGE'] / (df['EMPLOYED_AGE']+0.00001)\n",
    "    df['CAR_AGE_DIFF'] = df['BIRTH_AGE'] - df['OWN_CAR_AGE']\n",
    "    df['CAR_AGE_RATIO'] = df['OWN_CAR_AGE'] / (df['BIRTH_AGE'] + 0.00001)\n",
    "\n",
    "    #flag contacts sum\n",
    "    df['FLAG_CONTACTS_AVG'] = (df['FLAG_MOBIL'] + df['FLAG_EMP_PHONE'] + df['FLAG_WORK_PHONE'] + df[\n",
    "    'FLAG_CONT_MOBILE'] + df['FLAG_PHONE'] + df['FLAG_EMAIL'])/6\n",
    "\n",
    "    #family members\n",
    "    df['CNT_ADULTS'] = df['CNT_FAM_MEMBERS'] - df['CNT_CHILDREN']\n",
    "    df['CHILDREN_INCOME_RATIO'] = df['CNT_CHILDREN'] / (df['AMT_INCOME_TOTAL'] + 0.00001)\n",
    "    df['INCOME_PER_MEMBER'] = df['AMT_INCOME_TOTAL'] / (df['CNT_FAM_MEMBERS'] + 1)\n",
    "\n",
    "    #region ratings\n",
    "    df['REGION_RATING_MAX'] = [max(ele1, ele2) for ele1, ele2 in zip(df['REGION_RATING_CLIENT'], df['REGION_RATING_CLIENT_W_CITY'])]\n",
    "    df['REGION_RATING_MIN'] = [min(ele1, ele2) for ele1, ele2 in zip(df['REGION_RATING_CLIENT'], df['REGION_RATING_CLIENT_W_CITY'])]\n",
    "    df['REGION_RATING_AVG'] = (df['REGION_RATING_CLIENT'] + df['REGION_RATING_CLIENT_W_CITY']) / 2\n",
    "    df['REGION_RATING_MUL'] = df['REGION_RATING_CLIENT'] * df['REGION_RATING_CLIENT_W_CITY']\n",
    "\n",
    "    #flag regions\n",
    "    df['FLAG_REGIONS_AVG'] = (df['REG_REGION_NOT_LIVE_REGION'] + df['REG_REGION_NOT_WORK_REGION'] + df['LIVE_REGION_NOT_WORK_REGION']+df[\n",
    "    'REG_CITY_NOT_LIVE_CITY'] + df['REG_CITY_NOT_WORK_CITY'] + df['LIVE_CITY_NOT_WORK_CITY'] ) /6\n",
    "\n",
    "    #ext_sources\n",
    "    df['EXT_SOURCE_AVG'] = (df['EXT_SOURCE_1'] + df['EXT_SOURCE_2'] + df['EXT_SOURCE_3'] ) / 3\n",
    "    df['EXT_SOURCE_MUL'] = df['EXT_SOURCE_1'] * df['EXT_SOURCE_2'] * df['EXT_SOURCE_3'] \n",
    "    df['EXT_SOURCE_MAX'] = [max(ele1,ele2,ele3) for ele1, ele2, ele3 in zip(df['EXT_SOURCE_1'], df['EXT_SOURCE_2'], df['EXT_SOURCE_3'])]\n",
    "    df['EXT_SOURCE_MIN'] = [min(ele1,ele2,ele3) for ele1, ele2, ele3 in zip(df['EXT_SOURCE_1'], df['EXT_SOURCE_2'], df['EXT_SOURCE_3'])]\n",
    "    df['EXT_SOURCE_VAR'] = [np.var([ele1,ele2,ele3]) for ele1, ele2, ele3 in zip(df['EXT_SOURCE_1'], df['EXT_SOURCE_2'], df['EXT_SOURCE_3'])]\n",
    "\n",
    "    #apartment scores\n",
    "    df['APARTMENTS_SUM_AVG'] = df['APARTMENTS_AVG'] + df['BASEMENTAREA_AVG'] + df['YEARS_BEGINEXPLUATATION_AVG'] + df[\n",
    "    'YEARS_BUILD_AVG'] + df['COMMONAREA_AVG'] + df['ELEVATORS_AVG'] + df['ENTRANCES_AVG'] + df[\n",
    "    'FLOORSMAX_AVG'] + df['FLOORSMIN_AVG'] + df['LANDAREA_AVG'] + df['LIVINGAPARTMENTS_AVG'] + df[\n",
    "    'LIVINGAREA_AVG'] + df['NONLIVINGAPARTMENTS_AVG'] + df['NONLIVINGAREA_AVG']\n",
    "\n",
    "    df['APARTMENTS_SUM_MODE'] = df['APARTMENTS_MODE'] + df['BASEMENTAREA_MODE'] + df['YEARS_BEGINEXPLUATATION_MODE'] + df[\n",
    "    'YEARS_BUILD_MODE'] + df['COMMONAREA_MODE'] + df['ELEVATORS_MODE'] + df['ENTRANCES_MODE'] + df[\n",
    "    'FLOORSMAX_MODE'] + df['FLOORSMIN_MODE'] + df['LANDAREA_MODE'] + df['LIVINGAPARTMENTS_MODE'] + df[\n",
    "    'LIVINGAREA_MODE'] + df['NONLIVINGAPARTMENTS_MODE'] + df['NONLIVINGAREA_MODE'] + df['TOTALAREA_MODE']\n",
    "\n",
    "    df['APARTMENTS_SUM_MEDI'] = df['APARTMENTS_MEDI'] + df['BASEMENTAREA_MEDI'] + df['YEARS_BEGINEXPLUATATION_MEDI'] + df[\n",
    "    'YEARS_BUILD_MEDI'] + df['COMMONAREA_MEDI'] + df['ELEVATORS_MEDI'] + df['ENTRANCES_MEDI'] + df[\n",
    "    'FLOORSMAX_MEDI'] + df['FLOORSMIN_MEDI'] + df['LANDAREA_MEDI'] + df['LIVINGAPARTMENTS_MEDI'] + df[\n",
    "    'LIVINGAREA_MEDI'] + df['NONLIVINGAPARTMENTS_MEDI'] + df['NONLIVINGAREA_MEDI']\n",
    "\n",
    "\n",
    "    #OBS And DEF\n",
    "    df['OBS_30_60_SUM'] = df['OBS_30_CNT_SOCIAL_CIRCLE'] + df['OBS_60_CNT_SOCIAL_CIRCLE']\n",
    "    df['DEF_30_60_SUM'] = df['DEF_30_CNT_SOCIAL_CIRCLE'] + df['DEF_60_CNT_SOCIAL_CIRCLE']\n",
    "\n",
    "    df['SUM_OBS_DEF_ALL'] = df['OBS_30_CNT_SOCIAL_CIRCLE'] + df['DEF_30_CNT_SOCIAL_CIRCLE'] + df[\n",
    "    'OBS_60_CNT_SOCIAL_CIRCLE'] + df['DEF_60_CNT_SOCIAL_CIRCLE']\n",
    "\n",
    "    #Flag Documents combined\n",
    "    df['SUM_FLAGS_DOCUMENTS'] = df['FLAG_DOCUMENT_3'] + df['FLAG_DOCUMENT_5'] + df['FLAG_DOCUMENT_6']  + df[\n",
    "    'FLAG_DOCUMENT_7'] + df['FLAG_DOCUMENT_8'] + df['FLAG_DOCUMENT_9'] + df[\n",
    "    'FLAG_DOCUMENT_11'] + df['FLAG_DOCUMENT_13'] + df['FLAG_DOCUMENT_14'] + df[\n",
    "    'FLAG_DOCUMENT_15'] + df['FLAG_DOCUMENT_16'] + df['FLAG_DOCUMENT_17'] + df[\n",
    "    'FLAG_DOCUMENT_18'] + df['FLAG_DOCUMENT_19'] + df['FLAG_DOCUMENT_21']\n",
    "\n",
    "    #details change\n",
    "    df['DETAILS_CHANGE_AGE_SUM'] = df['LAST_PHONE_CHANGE_AGE'] + df['REGISTRATION_AGE'] + df['ID_PUBLISH_AGE']\n",
    "    #enquires\n",
    "    df['AMT_ENQ_SUM'] = df['AMT_REQ_CREDIT_BUREAU_HOUR'] + df['AMT_REQ_CREDIT_BUREAU_DAY'] + df['AMT_REQ_CREDIT_BUREAU_WEEK'] + df[\n",
    "    'AMT_REQ_CREDIT_BUREAU_MON'] + df['AMT_REQ_CREDIT_BUREAU_QRT'] + df['AMT_REQ_CREDIT_BUREAU_YEAR']\n",
    "\n",
    "    df['ENQ_CREDIT_RATIO'] = df['AMT_ENQ_SUM'] / (df['AMT_CREDIT'] + 0.00001)\n",
    "    \n",
    "    return df"
   ]
  },
  {
   "cell_type": "code",
   "execution_count": 5,
   "id": "d50a620f",
   "metadata": {},
   "outputs": [],
   "source": [
    "def encodeCatCols(X_train,X_test):\n",
    "    print('Shape of training data before encoding categorical columns is : ',X_train.shape)\n",
    "    print('Shape of testing data before encoding categorical columns is : ',X_test.shape)\n",
    "    \n",
    "    one_hot_cols=[]\n",
    "    label_encode_cols=[]\n",
    "    for col in X_train.select_dtypes(include='O').columns:\n",
    "        if X_train[col].nunique()==2:\n",
    "            label_encode_cols.append(col)\n",
    "        else :\n",
    "            one_hot_cols.append(col)\n",
    "        \n",
    "    for col in label_encode_cols:\n",
    "        le=LabelEncoder()\n",
    "        X_train[col] = le.fit_transform(X_train[col])\n",
    "        X_test[col] = le.transform(X_test[col])\n",
    "\n",
    "    X_train = pd.get_dummies(X_train, columns = one_hot_cols)\n",
    "    X_test = pd.get_dummies(X_test, columns = one_hot_cols)\n",
    "    \n",
    "    print('Shape of training data after encoding categorical columns is : ',X_train.shape)\n",
    "    print('Shape of testing data after encoding categorical columns is : ',X_test.shape)\n",
    "    \n",
    "    return X_train,X_test"
   ]
  },
  {
   "cell_type": "code",
   "execution_count": 6,
   "id": "a596ad73",
   "metadata": {},
   "outputs": [],
   "source": [
    "def makeTrainTestEqual(X_train,X_test):\n",
    "    '''\n",
    "    Function to check if one hot encoding caused any difference in train and test data.\n",
    "    '''\n",
    "    \n",
    "    extra_train_cols = list(set(X_train.columns)-set(X_test.columns))\n",
    "    extra_test_cols = list(set(X_test.columns)-set(X_train.columns))\n",
    "    if len(extra_train_cols)!=0:\n",
    "        print(f'There are {len(extra_train_cols)} extra columns in the training data. Adding them as 0.')\n",
    "        X_test[extra_train_cols]=0\n",
    "    else:\n",
    "        print(f'There are no extra columns in the training data.')\n",
    "              \n",
    "    if len(extra_test_cols)!=0:\n",
    "        print(f'There are {len(extra_test_cols)} extra columns in the testing data. Adding them as 0.')\n",
    "        X_train[extra_test_cols]=0\n",
    "    else:\n",
    "        print('There are no extra columns in the testing data.')\n",
    "              \n",
    "    return X_train,X_test"
   ]
  },
  {
   "cell_type": "code",
   "execution_count": 7,
   "id": "85eecad3",
   "metadata": {},
   "outputs": [],
   "source": [
    "def modelTrain(model,X_train,y_train,verbose=1):\n",
    "    \n",
    "    print('Training Model...')\n",
    "    \n",
    "    start = time.time()\n",
    "\n",
    "    model.fit(X_train,y_train)\n",
    "\n",
    "    end = time.time()\n",
    "    \n",
    "    print('Time taken for training : ',end - start,' seconds.')\n",
    "    \n",
    "    return model"
   ]
  },
  {
   "cell_type": "code",
   "execution_count": 8,
   "id": "51d07687",
   "metadata": {},
   "outputs": [],
   "source": [
    "def accuracy(model,X_test,y_test):\n",
    "    \n",
    "    preds = model.predict_proba(X_test)[:,1]\n",
    "    \n",
    "    score = roc_auc_score(y_test,preds)\n",
    "    \n",
    "    return score"
   ]
  },
  {
   "cell_type": "markdown",
   "id": "500f1ba8",
   "metadata": {},
   "source": [
    "## Reading the training and testing csv files."
   ]
  },
  {
   "cell_type": "code",
   "execution_count": 9,
   "id": "f9d676c1",
   "metadata": {},
   "outputs": [],
   "source": [
    "application_train=pd.read_csv('application_train.csv')\n",
    "application_test=pd.read_csv('application_test.csv')"
   ]
  },
  {
   "cell_type": "markdown",
   "id": "dea23578",
   "metadata": {},
   "source": [
    "## Dividing columns into numerical and categorical. "
   ]
  },
  {
   "cell_type": "code",
   "execution_count": 10,
   "id": "b963e7af",
   "metadata": {},
   "outputs": [],
   "source": [
    "cat_cols = application_train.select_dtypes(include ='O').columns\n",
    "num_cols = application_train.select_dtypes(exclude ='O').columns"
   ]
  },
  {
   "cell_type": "markdown",
   "id": "3a920391",
   "metadata": {},
   "source": [
    "## Dividing Numerical columns based on their description."
   ]
  },
  {
   "cell_type": "code",
   "execution_count": 11,
   "id": "ca2817f5",
   "metadata": {},
   "outputs": [],
   "source": [
    "days_cols=[col for col in num_cols if 'DAYS_' in col]\n",
    "amt_cols=[col for col in num_cols if 'AMT_' in col]\n",
    "amt_cols.append('HOUR_APPR_PROCESS_START')\n",
    "flags=[col for col in num_cols if 'FLAG_' in col]\n",
    "\n",
    "region_cols = [col for col in num_cols if 'REG' in col]\n",
    "region_cols.append('LIVE_CITY_NOT_WORK_CITY')\n",
    "region_cols.remove('DAYS_REGISTRATION')\n",
    "\n",
    "building_cols = [col for col in num_cols if col.endswith(('_AVG','_MODE','_MEDI'))]\n",
    "\n",
    "ext_cols = [col for col in num_cols if col.startswith('EXT_SOURCE')]\n",
    "\n",
    "social_cols = [col for col in num_cols if col.endswith('_SOCIAL_CIRCLE')]"
   ]
  },
  {
   "cell_type": "markdown",
   "id": "29b070df",
   "metadata": {},
   "source": [
    "## Dividing complete training data into training and validation datasets."
   ]
  },
  {
   "cell_type": "code",
   "execution_count": 12,
   "id": "03b198ed",
   "metadata": {},
   "outputs": [
    {
     "name": "stdout",
     "output_type": "stream",
     "text": [
      "(261384, 121)\n",
      "(261384,)\n",
      "(46127, 121)\n",
      "(46127,)\n"
     ]
    }
   ],
   "source": [
    "X = application_train.drop(columns=['TARGET'])\n",
    "y = application_train['TARGET']\n",
    "X_train, X_val,y_train, y_val = train_test_split(X,y ,random_state=104, test_size=0.15, shuffle=True)\n",
    "print(X_train.shape)\n",
    "print(y_train.shape)\n",
    "print(X_val.shape)\n",
    "print(y_val.shape)"
   ]
  },
  {
   "cell_type": "markdown",
   "id": "76960e1f",
   "metadata": {},
   "source": [
    "## Ensuring ratio of minority and majority class is same."
   ]
  },
  {
   "cell_type": "code",
   "execution_count": 13,
   "id": "e651f4a8",
   "metadata": {},
   "outputs": [
    {
     "name": "stdout",
     "output_type": "stream",
     "text": [
      "Ratio of frequency of minority class to majority class in complete training data :  8.781828601345662\n",
      "Ratio of frequency of minority class to majority class in divided training data :  8.809351350001249\n",
      "Ratio of frequency of minority class to majority class in validation data :  8.626130369253957\n"
     ]
    }
   ],
   "source": [
    "print('Ratio of frequency of minority class to majority class in complete training data : ',y.value_counts()[1]*100/y.value_counts()[0])\n",
    "\n",
    "print('Ratio of frequency of minority class to majority class in divided training data : ',y_train.value_counts()[1]*100/y_train.value_counts()[0])\n",
    "\n",
    "print('Ratio of frequency of minority class to majority class in validation data : ',y_val.value_counts()[1]*100/y_val.value_counts()[0])"
   ]
  },
  {
   "cell_type": "code",
   "execution_count": 14,
   "id": "0057dd47",
   "metadata": {},
   "outputs": [],
   "source": [
    "train_df=pd.concat([X_train,y_train],axis=1)\n",
    "val_df = pd.concat([X_val,y_val],axis=1)"
   ]
  },
  {
   "cell_type": "markdown",
   "id": "207f5fa6",
   "metadata": {},
   "source": [
    "## Performing feature engineering and filling null values in the divided training and validation data."
   ]
  },
  {
   "cell_type": "code",
   "execution_count": 15,
   "id": "6bc1f84a",
   "metadata": {
    "scrolled": true
   },
   "outputs": [],
   "source": [
    "train_df = featureEngineering(train_df)\n",
    "\n",
    "train_df = imputation(train_df)\n",
    "\n",
    "train_df = numericalFeatureEngineering(train_df)"
   ]
  },
  {
   "cell_type": "code",
   "execution_count": 16,
   "id": "5b18c493",
   "metadata": {},
   "outputs": [],
   "source": [
    "val_df = featureEngineering(val_df)\n",
    "val_df = imputation(val_df)\n",
    "val_df = numericalFeatureEngineering(val_df)"
   ]
  },
  {
   "cell_type": "code",
   "execution_count": 17,
   "id": "e3a57796",
   "metadata": {},
   "outputs": [],
   "source": [
    "X_train = train_df.drop(columns=['SK_ID_CURR','TARGET'])\n",
    "y_train = train_df['TARGET']\n",
    "\n",
    "X_val = val_df.drop(columns=['SK_ID_CURR','TARGET'])\n",
    "y_val = val_df['TARGET']"
   ]
  },
  {
   "cell_type": "markdown",
   "id": "39e6b8e4",
   "metadata": {},
   "source": [
    "## Encoding categorical columns and making training and validation datasets equal."
   ]
  },
  {
   "cell_type": "code",
   "execution_count": 18,
   "id": "5ed96f0f",
   "metadata": {},
   "outputs": [
    {
     "name": "stdout",
     "output_type": "stream",
     "text": [
      "Shape of training data before encoding categorical columns is :  (261380, 163)\n",
      "Shape of testing data before encoding categorical columns is :  (46127, 163)\n",
      "Shape of training data after encoding categorical columns is :  (261380, 281)\n",
      "Shape of testing data after encoding categorical columns is :  (46127, 278)\n",
      "There are 3 extra columns in the training data. Adding them as 0.\n",
      "There are no extra columns in the testing data.\n"
     ]
    }
   ],
   "source": [
    "X_train,X_val = encodeCatCols(X_train,X_val)\n",
    "X_train,X_val = makeTrainTestEqual(X_train,X_val)"
   ]
  },
  {
   "cell_type": "markdown",
   "id": "f15e492f",
   "metadata": {},
   "source": [
    "## Standardizing the data."
   ]
  },
  {
   "cell_type": "code",
   "execution_count": 19,
   "id": "5769eca7",
   "metadata": {},
   "outputs": [],
   "source": [
    "scaler = StandardScaler()\n",
    "X_train_std = scaler.fit_transform(X_train)\n",
    "X_val_std = scaler.transform(X_val)"
   ]
  },
  {
   "cell_type": "markdown",
   "id": "4663a490",
   "metadata": {},
   "source": [
    "## Defining different classifiers and training them on default parameters."
   ]
  },
  {
   "cell_type": "code",
   "execution_count": 20,
   "id": "4e333d24",
   "metadata": {},
   "outputs": [],
   "source": [
    "clf1 = RandomForestClassifier(random_state=42)\n",
    "clf2 = SVC(probability=True, random_state=42)\n",
    "clf3 = LogisticRegression(random_state=42)\n",
    "clf4 = DecisionTreeClassifier(random_state=42)\n",
    "clf5 = KNeighborsClassifier()\n",
    "clf6 = GradientBoostingClassifier(random_state=42)\n",
    "clf7 = LGBMClassifier()\n",
    "\n",
    "models={'RandomForest':clf1,\n",
    "       'LogisticRegression':clf3,\n",
    "       'DecisionTreeClassifier':clf4,\n",
    "       'KNeighborsClassifier':clf5,\n",
    "       'GradientBoostingClassifier':clf6,\n",
    "       'LGBMClassifier' : clf7}"
   ]
  },
  {
   "cell_type": "code",
   "execution_count": 21,
   "id": "7e2ffd89",
   "metadata": {},
   "outputs": [
    {
     "name": "stdout",
     "output_type": "stream",
     "text": [
      "Model Name :  RandomForest\n",
      "Training Model...\n",
      "Time taken for training :  164.32914876937866  seconds.\n",
      "Completed.\n",
      "Model Name :  LogisticRegression\n",
      "Training Model...\n",
      "Time taken for training :  7.215121030807495  seconds.\n",
      "Completed.\n",
      "Model Name :  DecisionTreeClassifier\n",
      "Training Model...\n",
      "Time taken for training :  54.72966980934143  seconds.\n",
      "Completed.\n",
      "Model Name :  KNeighborsClassifier\n",
      "Training Model...\n",
      "Time taken for training :  0.10977554321289062  seconds.\n",
      "Completed.\n",
      "Model Name :  GradientBoostingClassifier\n",
      "Training Model...\n",
      "Time taken for training :  476.8876950740814  seconds.\n",
      "Completed.\n",
      "Model Name :  LGBMClassifier\n",
      "Training Model...\n",
      "Time taken for training :  8.64728832244873  seconds.\n",
      "Completed.\n"
     ]
    }
   ],
   "source": [
    "scores={}\n",
    "for model_name in models:\n",
    "    print('Model Name : ',model_name)\n",
    "    model = modelTrain(models[model_name],X_train_std,y_train)\n",
    "    score = accuracy(model,X_val_std,y_val)\n",
    "    scores[model_name]=score\n",
    "    print('Completed.')"
   ]
  },
  {
   "cell_type": "markdown",
   "id": "288bd4a4",
   "metadata": {},
   "source": [
    "### We will us these scores on the validation dataset to decide which models to perform hyperparameter tuning on."
   ]
  },
  {
   "cell_type": "code",
   "execution_count": 22,
   "id": "2073cd27",
   "metadata": {
    "scrolled": true
   },
   "outputs": [
    {
     "data": {
      "text/plain": [
       "{'RandomForest': 0.7194995967485606,\n",
       " 'LogisticRegression': 0.5366264158417512,\n",
       " 'DecisionTreeClassifier': 0.5305988663185347,\n",
       " 'KNeighborsClassifier': 0.4700941875371981,\n",
       " 'GradientBoostingClassifier': 0.7593380603577475,\n",
       " 'LGBMClassifier': 0.7612018253267312}"
      ]
     },
     "execution_count": 22,
     "metadata": {},
     "output_type": "execute_result"
    }
   ],
   "source": [
    "scores"
   ]
  },
  {
   "cell_type": "markdown",
   "id": "3d4a87e6",
   "metadata": {},
   "source": [
    "## OBSERVATION\n",
    "\n",
    "1. Two models- GradientBoostingClassifier and LGBMClassifier gave the highest results.\n",
    "2. Ideally we should perform hyperparameter tuning on both classifiers in order to achieve the best results, but due to time and resource constraints, we will perform hyperparameter tuning on LGBMClassifier."
   ]
  },
  {
   "cell_type": "markdown",
   "id": "9e38d819",
   "metadata": {},
   "source": [
    "## Defining the final training and testing datasets and saving them to csv files."
   ]
  },
  {
   "cell_type": "code",
   "execution_count": 20,
   "id": "1af90be0",
   "metadata": {
    "scrolled": true
   },
   "outputs": [
    {
     "name": "stdout",
     "output_type": "stream",
     "text": [
      "Shape of training data before encoding categorical columns is :  (307507, 163)\n",
      "Shape of testing data before encoding categorical columns is :  (48744, 163)\n",
      "Shape of training data after encoding categorical columns is :  (307507, 281)\n",
      "Shape of testing data after encoding categorical columns is :  (48744, 279)\n",
      "There are 2 extra columns in the training data. Adding them as 0.\n",
      "There are no extra columns in the testing data.\n"
     ]
    }
   ],
   "source": [
    "#Making the FINAL TRAINING AND TEST DATASETS\n",
    "application_train = featureEngineering(application_train)\n",
    "\n",
    "application_train = imputation(application_train)\n",
    "\n",
    "application_train = numericalFeatureEngineering(application_train)\n",
    "\n",
    "application_test = featureEngineering(application_test)\n",
    "\n",
    "application_test = imputation(application_test)\n",
    "\n",
    "application_test = numericalFeatureEngineering(application_test)\n",
    "\n",
    "X_train = application_train.drop(columns=['SK_ID_CURR','TARGET'])\n",
    "y_train = application_train['TARGET']\n",
    "\n",
    "X_test = application_test.drop(columns=['SK_ID_CURR'])\n",
    "\n",
    "X_train,X_test = encodeCatCols(X_train,X_test)\n",
    "\n",
    "X_train,X_test = makeTrainTestEqual(X_train,X_test)\n",
    "\n",
    "#To avoid Special characters in feature names(LGBM gives error otherwise)\n",
    "X_train = X_train.rename(columns = lambda x:re.sub('[^A-Za-z0-9_]+', '', x))\n",
    "\n",
    "X_test = X_test.rename(columns = lambda x:re.sub('[^A-Za-z0-9_]+', '', x))\n",
    "\n",
    "final_train = pd.concat([application_train['SK_ID_CURR'],pd.DataFrame(X_train),y_train],axis=1)\n",
    "final_train.to_csv('FinalTrainData.csv',index=False)\n",
    "\n",
    "final_test = pd.concat([application_test['SK_ID_CURR'],X_test],axis=1)\n",
    "final_test.to_csv('FinalTestData.csv',index=False)"
   ]
  },
  {
   "cell_type": "code",
   "execution_count": 21,
   "id": "3cdea7e5",
   "metadata": {},
   "outputs": [],
   "source": [
    "final_train_df = pd.read_csv('FinalTrainData.csv')\n",
    "X_train = final_train_df.drop(columns=['SK_ID_CURR','TARGET'])\n",
    "y_train = final_train_df['TARGET'].values\n",
    "final_test_df = pd.read_csv('FinalTestData.csv')\n",
    "X_test = final_test_df.drop(columns=['SK_ID_CURR'])"
   ]
  },
  {
   "cell_type": "markdown",
   "id": "949af71e",
   "metadata": {},
   "source": [
    "## Standardizing the data."
   ]
  },
  {
   "cell_type": "code",
   "execution_count": 22,
   "id": "074d4268",
   "metadata": {
    "scrolled": true
   },
   "outputs": [],
   "source": [
    "scaler = StandardScaler()\n",
    "X_train_std = pd.DataFrame(scaler.fit_transform(X_train))\n",
    "X_test_std = pd.DataFrame(scaler.transform(X_test))"
   ]
  },
  {
   "cell_type": "markdown",
   "id": "22838760",
   "metadata": {},
   "source": [
    "## We will use optuna library to perform hyperparameter tuning."
   ]
  },
  {
   "cell_type": "markdown",
   "id": "6d19782b",
   "metadata": {},
   "source": [
    "### Objective function to perform cross validation and maximize roc_auc score.\n",
    "This function is neede to be passed to the study object of optuna library."
   ]
  },
  {
   "cell_type": "code",
   "execution_count": 34,
   "id": "66c06876",
   "metadata": {},
   "outputs": [],
   "source": [
    "def objective(trial, X, y):\n",
    "    param_grid = {\n",
    "        # \"device_type\": trial.suggest_categorical(\"device_type\", ['gpu']),\n",
    "        \"n_estimators\": trial.suggest_categorical(\"n_estimators\", [10000]),\n",
    "        \"learning_rate\": trial.suggest_float(\"learning_rate\", 0.01, 0.3),\n",
    "        \"num_leaves\": trial.suggest_int(\"num_leaves\", 20, 3000, step=20),\n",
    "        \"max_depth\": trial.suggest_int(\"max_depth\", 3, 12),\n",
    "        \"min_child_samples\": trial.suggest_int(\"min_child_samples\", 200, 10000, step=100),\n",
    "        \"reg_alpha\": trial.suggest_int(\"reg_alpha\", 0, 100, step=5),\n",
    "        \"reg_lambda\": trial.suggest_int(\"reg_lambda\", 0, 100, step=5),\n",
    "        \"min_split_gain\": trial.suggest_float(\"min_split_gain\", 0, 15),\n",
    "        \"subsample\": trial.suggest_float(\n",
    "            \"subsample\", 0.2, 0.95, step=0.1\n",
    "        ),\n",
    "        \"subsample_freq\": trial.suggest_categorical(\"subsample_freq\", [1]),\n",
    "        \"colsample_bytree\": trial.suggest_float(\n",
    "            \"colsample_bytree\", 0.2, 0.95, step=0.1\n",
    "        )\n",
    "    }\n",
    "    \n",
    "    cv = StratifiedKFold(n_splits=5, shuffle=True, random_state=1121218)\n",
    "\n",
    "    cv_scores = {}\n",
    "    for idx, (train_idx, test_idx) in enumerate(cv.split(X, y)):\n",
    "        X_train, X_test = X.iloc[train_idx], X.iloc[test_idx]\n",
    "        y_train, y_test = y[train_idx], y[test_idx]\n",
    "\n",
    "        model = lgbm.LGBMClassifier(objective='binary', **param_grid)\n",
    "        model.fit(\n",
    "            X_train,\n",
    "            y_train,\n",
    "            eval_set=[(X_test, y_test)],\n",
    "            eval_metric=\"auc\",\n",
    "            early_stopping_rounds=10,\n",
    "            callbacks=[\n",
    "                LightGBMPruningCallback(trial, 'auc')\n",
    "            ]\n",
    "        )\n",
    "        \n",
    "        preds = model.predict_proba(X_test)[:,1]\n",
    "    \n",
    "        score = roc_auc_score(y_test,preds)\n",
    "        cv_scores[idx] = score\n",
    "\n",
    "    return np.mean(list(cv_scores.values()))"
   ]
  },
  {
   "cell_type": "markdown",
   "id": "f71e9340",
   "metadata": {},
   "source": [
    "## Creating the study object and searching for the best parameters."
   ]
  },
  {
   "cell_type": "code",
   "execution_count": 35,
   "id": "6d88748f",
   "metadata": {
    "scrolled": false
   },
   "outputs": [
    {
     "name": "stdout",
     "output_type": "stream",
     "text": [
      "Starting Hyperparameter Tuning using Optuna.\n",
      "Hyperparameter Tuning completed in -0.6850413808822632 seconds.\n"
     ]
    }
   ],
   "source": [
    "print('Starting Hyperparameter Tuning using Optuna.')\n",
    "start = time.time()\n",
    "study = optuna.create_study(direction='maximize', study_name='LGBM Classifier')\n",
    "func = lambda trial: objective(trial, X_train_std, y_train)\n",
    "study.optimize(func, n_trials=20)\n",
    "end =time.time()\n",
    "print(f'Hyperparameter Tuning completed in {start-end} seconds.')"
   ]
  },
  {
   "cell_type": "code",
   "execution_count": 36,
   "id": "deea45ed",
   "metadata": {},
   "outputs": [
    {
     "name": "stdout",
     "output_type": "stream",
     "text": [
      "Best roc-auc score :  0.7608477630581246\n",
      "Best parameters :  {'n_estimators': 10000, 'learning_rate': 0.19518937330800934, 'num_leaves': 1480, 'max_depth': 7, 'min_child_samples': 3300, 'reg_alpha': 25, 'reg_lambda': 15, 'min_split_gain': 5.816960456524854, 'subsample': 0.9, 'subsample_freq': 1, 'colsample_bytree': 0.4}\n"
     ]
    }
   ],
   "source": [
    "print('Best roc-auc score : ',study.best_value)\n",
    "print('Best parameters : ',study.best_params)"
   ]
  },
  {
   "cell_type": "code",
   "execution_count": null,
   "id": "fe8017c2",
   "metadata": {},
   "outputs": [],
   "source": [
    "# old ones\n",
    "# {'n_estimators': 10000,\n",
    "#  'learning_rate': 0.20744814389487773,\n",
    "#  'num_leaves': 2540,\n",
    "#  'max_depth': 8,\n",
    "#  'min_data_in_leaf': 8100,\n",
    "#  'lambda_l1': 0,\n",
    "#  'lambda_l2': 25,\n",
    "#  'min_gain_to_split': 3.072411609628476,\n",
    "#  'bagging_fraction': 0.7,\n",
    "#  'bagging_freq': 1,\n",
    "#  'feature_fraction': 0.5}"
   ]
  },
  {
   "cell_type": "code",
   "execution_count": 37,
   "id": "c4a92ba8",
   "metadata": {},
   "outputs": [],
   "source": [
    "best_lgbm_params = {'n_estimators': 10000, 'learning_rate': 0.19518937330800934, 'num_leaves': 1480, 'max_depth': 7, 'min_child_samples': 3300, 'reg_alpha': 25, 'reg_lambda': 15, 'min_split_gain': 5.816960456524854, 'subsample': 0.9, 'subsample_freq': 1, 'colsample_bytree': 0.4}"
   ]
  },
  {
   "cell_type": "markdown",
   "id": "dc361bf5",
   "metadata": {},
   "source": [
    "## Plotting the tuning history."
   ]
  },
  {
   "cell_type": "code",
   "execution_count": 38,
   "id": "b0e4fd57",
   "metadata": {
    "scrolled": true
   },
   "outputs": [
    {
     "data": {
      "text/plain": [
       "<AxesSubplot:title={'center':'Optimization History Plot'}, xlabel='Trial', ylabel='Objective Value'>"
      ]
     },
     "execution_count": 38,
     "metadata": {},
     "output_type": "execute_result"
    },
    {
     "data": {
      "image/png": "[encoded data removed]",
      "text/plain": [
       "<Figure size 432x288 with 1 Axes>"
      ]
     },
     "metadata": {},
     "output_type": "display_data"
    }
   ],
   "source": [
    "plot_optimization_history(study)"
   ]
  },
  {
   "cell_type": "markdown",
   "id": "d231753a",
   "metadata": {},
   "source": [
    "## Training the final model on the best parameters."
   ]
  },
  {
   "cell_type": "code",
   "execution_count": 39,
   "id": "b7ba7b3c",
   "metadata": {},
   "outputs": [
    {
     "data": {
      "text/plain": [
       "LGBMClassifier(colsample_bytree=0.4, learning_rate=0.19518937330800934,\n",
       "               max_depth=7, min_child_samples=3300,\n",
       "               min_split_gain=5.816960456524854, n_estimators=10000,\n",
       "               num_leaves=1480, objective='binary', reg_alpha=25, reg_lambda=15,\n",
       "               subsample=0.9, subsample_freq=1)"
      ]
     },
     "execution_count": 39,
     "metadata": {},
     "output_type": "execute_result"
    }
   ],
   "source": [
    "final_lgbm = lgbm.LGBMClassifier(objective='binary',**best_lgbm_params)\n",
    "final_lgbm.fit(X_train_std,y_train)"
   ]
  },
  {
   "cell_type": "markdown",
   "id": "d50c6483",
   "metadata": {},
   "source": [
    "## Predicting on the test dataset and downloading submission csv file."
   ]
  },
  {
   "cell_type": "code",
   "execution_count": 40,
   "id": "427de243",
   "metadata": {
    "scrolled": true
   },
   "outputs": [],
   "source": [
    "final_preds = final_lgbm.predict_proba(X_test_std)[:,1]\n",
    "submission_df =application_test[['SK_ID_CURR']]\n",
    "submission_df['TARGET'] = final_preds\n",
    "submission_df.to_csv('FinalLGBM.csv',index=False)"
   ]
  },
  {
   "cell_type": "markdown",
   "id": "54a41b49",
   "metadata": {},
   "source": [
    "## This model achieved an roc_auc score of 0.753 on only 1 data file out of 7."
   ]
  }
 ],
 "metadata": {
  "kernelspec": {
   "display_name": "Python 3 (ipykernel)",
   "language": "python",
   "name": "python3"
  },
  "language_info": {
   "codemirror_mode": {
    "name": "ipython",
    "version": 3
   },
   "file_extension": ".py",
   "mimetype": "text/x-python",
   "name": "python",
   "nbconvert_exporter": "python",
   "pygments_lexer": "ipython3",
   "version": "3.9.12"
  }
 },
 "nbformat": 4,
 "nbformat_minor": 5
}
